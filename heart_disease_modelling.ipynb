{
 "cells": [
  {
   "cell_type": "markdown",
   "metadata": {},
   "source": [
    "## Data Preprocessing"
   ]
  },
  {
   "cell_type": "code",
   "execution_count": 1,
   "metadata": {},
   "outputs": [
    {
     "name": "stderr",
     "output_type": "stream",
     "text": [
      "c:\\Users\\Teofilo_Ligawa\\anaconda3\\envs\\teo-main_env\\lib\\site-packages\\xgboost\\compat.py:36: FutureWarning: pandas.Int64Index is deprecated and will be removed from pandas in a future version. Use pandas.Index with the appropriate dtype instead.\n",
      "  from pandas import MultiIndex, Int64Index\n"
     ]
    }
   ],
   "source": [
    "# Importing the necessary libraries\n",
    "import pandas as pd\n",
    "import numpy as np\n",
    "import matplotlib.pyplot as plt\n",
    "%matplotlib inline\n",
    "import seaborn as sns\n",
    "\n",
    "# other\n",
    "from sklearn.preprocessing import MinMaxScaler\n",
    "from sklearn.preprocessing import StandardScaler\n",
    "from sklearn.model_selection import train_test_split\n",
    "from sklearn.metrics import accuracy_score, precision_score, recall_score, f1_score, confusion_matrix\n",
    "from sklearn.metrics import roc_curve, auc, roc_auc_score, classification_report, mean_squared_error\n",
    "from sklearn.metrics import plot_confusion_matrix\n",
    "from sklearn.compose import ColumnTransformer\n",
    "\n",
    "\n",
    "# models\n",
    "from sklearn.linear_model import LogisticRegression\n",
    "from sklearn.tree import DecisionTreeClassifier\n",
    "from sklearn.neighbors import KNeighborsClassifier\n",
    "from sklearn.ensemble import RandomForestClassifier, BaggingClassifier\n",
    "from sklearn.model_selection import GridSearchCV, RandomizedSearchCV\n",
    "from sklearn.pipeline import Pipeline\n",
    "from sklearn.ensemble import AdaBoostClassifier, GradientBoostingClassifier\n",
    "from xgboost import XGBClassifier\n",
    "\n",
    "# deal with warnings\n",
    "import warnings\n",
    "warnings.filterwarnings('ignore')\n",
    "\n"
   ]
  },
  {
   "cell_type": "code",
   "execution_count": 2,
   "metadata": {},
   "outputs": [
    {
     "data": {
      "text/html": [
       "<div>\n",
       "<style scoped>\n",
       "    .dataframe tbody tr th:only-of-type {\n",
       "        vertical-align: middle;\n",
       "    }\n",
       "\n",
       "    .dataframe tbody tr th {\n",
       "        vertical-align: top;\n",
       "    }\n",
       "\n",
       "    .dataframe thead th {\n",
       "        text-align: right;\n",
       "    }\n",
       "</style>\n",
       "<table border=\"1\" class=\"dataframe\">\n",
       "  <thead>\n",
       "    <tr style=\"text-align: right;\">\n",
       "      <th></th>\n",
       "      <th>HeartDiseaseorAttack</th>\n",
       "      <th>HighBP</th>\n",
       "      <th>HighChol</th>\n",
       "      <th>CholCheck</th>\n",
       "      <th>BMI</th>\n",
       "      <th>Smoker</th>\n",
       "      <th>Stroke</th>\n",
       "      <th>Diabetes</th>\n",
       "      <th>PhysActivity</th>\n",
       "      <th>Fruits</th>\n",
       "      <th>...</th>\n",
       "      <th>AnyHealthcare</th>\n",
       "      <th>NoDocbcCost</th>\n",
       "      <th>GenHlth</th>\n",
       "      <th>MentHlth</th>\n",
       "      <th>PhysHlth</th>\n",
       "      <th>DiffWalk</th>\n",
       "      <th>Sex</th>\n",
       "      <th>Age</th>\n",
       "      <th>Education</th>\n",
       "      <th>Income</th>\n",
       "    </tr>\n",
       "  </thead>\n",
       "  <tbody>\n",
       "    <tr>\n",
       "      <th>0</th>\n",
       "      <td>0</td>\n",
       "      <td>1</td>\n",
       "      <td>1</td>\n",
       "      <td>1</td>\n",
       "      <td>40.0</td>\n",
       "      <td>1</td>\n",
       "      <td>0</td>\n",
       "      <td>0</td>\n",
       "      <td>0</td>\n",
       "      <td>0</td>\n",
       "      <td>...</td>\n",
       "      <td>1</td>\n",
       "      <td>0</td>\n",
       "      <td>5</td>\n",
       "      <td>18.0</td>\n",
       "      <td>15.0</td>\n",
       "      <td>1</td>\n",
       "      <td>0</td>\n",
       "      <td>9</td>\n",
       "      <td>4</td>\n",
       "      <td>3</td>\n",
       "    </tr>\n",
       "    <tr>\n",
       "      <th>1</th>\n",
       "      <td>0</td>\n",
       "      <td>0</td>\n",
       "      <td>0</td>\n",
       "      <td>0</td>\n",
       "      <td>25.0</td>\n",
       "      <td>1</td>\n",
       "      <td>0</td>\n",
       "      <td>0</td>\n",
       "      <td>1</td>\n",
       "      <td>0</td>\n",
       "      <td>...</td>\n",
       "      <td>0</td>\n",
       "      <td>1</td>\n",
       "      <td>3</td>\n",
       "      <td>0.0</td>\n",
       "      <td>0.0</td>\n",
       "      <td>0</td>\n",
       "      <td>0</td>\n",
       "      <td>7</td>\n",
       "      <td>6</td>\n",
       "      <td>1</td>\n",
       "    </tr>\n",
       "    <tr>\n",
       "      <th>2</th>\n",
       "      <td>0</td>\n",
       "      <td>1</td>\n",
       "      <td>1</td>\n",
       "      <td>1</td>\n",
       "      <td>28.0</td>\n",
       "      <td>0</td>\n",
       "      <td>0</td>\n",
       "      <td>0</td>\n",
       "      <td>0</td>\n",
       "      <td>1</td>\n",
       "      <td>...</td>\n",
       "      <td>1</td>\n",
       "      <td>1</td>\n",
       "      <td>5</td>\n",
       "      <td>30.0</td>\n",
       "      <td>30.0</td>\n",
       "      <td>1</td>\n",
       "      <td>0</td>\n",
       "      <td>9</td>\n",
       "      <td>4</td>\n",
       "      <td>8</td>\n",
       "    </tr>\n",
       "    <tr>\n",
       "      <th>3</th>\n",
       "      <td>0</td>\n",
       "      <td>1</td>\n",
       "      <td>0</td>\n",
       "      <td>1</td>\n",
       "      <td>27.0</td>\n",
       "      <td>0</td>\n",
       "      <td>0</td>\n",
       "      <td>0</td>\n",
       "      <td>1</td>\n",
       "      <td>1</td>\n",
       "      <td>...</td>\n",
       "      <td>1</td>\n",
       "      <td>0</td>\n",
       "      <td>2</td>\n",
       "      <td>0.0</td>\n",
       "      <td>0.0</td>\n",
       "      <td>0</td>\n",
       "      <td>0</td>\n",
       "      <td>11</td>\n",
       "      <td>3</td>\n",
       "      <td>6</td>\n",
       "    </tr>\n",
       "    <tr>\n",
       "      <th>4</th>\n",
       "      <td>0</td>\n",
       "      <td>1</td>\n",
       "      <td>1</td>\n",
       "      <td>1</td>\n",
       "      <td>24.0</td>\n",
       "      <td>0</td>\n",
       "      <td>0</td>\n",
       "      <td>0</td>\n",
       "      <td>1</td>\n",
       "      <td>1</td>\n",
       "      <td>...</td>\n",
       "      <td>1</td>\n",
       "      <td>0</td>\n",
       "      <td>2</td>\n",
       "      <td>3.0</td>\n",
       "      <td>0.0</td>\n",
       "      <td>0</td>\n",
       "      <td>0</td>\n",
       "      <td>11</td>\n",
       "      <td>5</td>\n",
       "      <td>4</td>\n",
       "    </tr>\n",
       "  </tbody>\n",
       "</table>\n",
       "<p>5 rows × 22 columns</p>\n",
       "</div>"
      ],
      "text/plain": [
       "   HeartDiseaseorAttack  HighBP  HighChol  CholCheck   BMI  Smoker  Stroke  \\\n",
       "0                     0       1         1          1  40.0       1       0   \n",
       "1                     0       0         0          0  25.0       1       0   \n",
       "2                     0       1         1          1  28.0       0       0   \n",
       "3                     0       1         0          1  27.0       0       0   \n",
       "4                     0       1         1          1  24.0       0       0   \n",
       "\n",
       "   Diabetes  PhysActivity  Fruits  ...  AnyHealthcare  NoDocbcCost  GenHlth  \\\n",
       "0         0             0       0  ...              1            0        5   \n",
       "1         0             1       0  ...              0            1        3   \n",
       "2         0             0       1  ...              1            1        5   \n",
       "3         0             1       1  ...              1            0        2   \n",
       "4         0             1       1  ...              1            0        2   \n",
       "\n",
       "   MentHlth  PhysHlth  DiffWalk  Sex  Age  Education  Income  \n",
       "0      18.0      15.0         1    0    9          4       3  \n",
       "1       0.0       0.0         0    0    7          6       1  \n",
       "2      30.0      30.0         1    0    9          4       8  \n",
       "3       0.0       0.0         0    0   11          3       6  \n",
       "4       3.0       0.0         0    0   11          5       4  \n",
       "\n",
       "[5 rows x 22 columns]"
      ]
     },
     "execution_count": 2,
     "metadata": {},
     "output_type": "execute_result"
    }
   ],
   "source": [
    "# loading the data\n",
    "heart_df = pd.read_csv('data/cleaned_heart_disease_or_attack.csv', index_col=0)\n",
    "\n",
    "# previewing the first five rows of the data\n",
    "heart_df.head()"
   ]
  },
  {
   "cell_type": "code",
   "execution_count": 3,
   "metadata": {},
   "outputs": [
    {
     "data": {
      "text/html": [
       "<div>\n",
       "<style scoped>\n",
       "    .dataframe tbody tr th:only-of-type {\n",
       "        vertical-align: middle;\n",
       "    }\n",
       "\n",
       "    .dataframe tbody tr th {\n",
       "        vertical-align: top;\n",
       "    }\n",
       "\n",
       "    .dataframe thead th {\n",
       "        text-align: right;\n",
       "    }\n",
       "</style>\n",
       "<table border=\"1\" class=\"dataframe\">\n",
       "  <thead>\n",
       "    <tr style=\"text-align: right;\">\n",
       "      <th></th>\n",
       "      <th>HeartDiseaseorAttack</th>\n",
       "      <th>HighBP</th>\n",
       "      <th>HighChol</th>\n",
       "      <th>CholCheck</th>\n",
       "      <th>BMI</th>\n",
       "      <th>Smoker</th>\n",
       "      <th>Stroke</th>\n",
       "      <th>Diabetes</th>\n",
       "      <th>PhysActivity</th>\n",
       "      <th>Fruits</th>\n",
       "      <th>...</th>\n",
       "      <th>AnyHealthcare</th>\n",
       "      <th>NoDocbcCost</th>\n",
       "      <th>GenHlth</th>\n",
       "      <th>MentHlth</th>\n",
       "      <th>PhysHlth</th>\n",
       "      <th>DiffWalk</th>\n",
       "      <th>Sex</th>\n",
       "      <th>Age</th>\n",
       "      <th>Education</th>\n",
       "      <th>Income</th>\n",
       "    </tr>\n",
       "  </thead>\n",
       "  <tbody>\n",
       "    <tr>\n",
       "      <th>253675</th>\n",
       "      <td>0</td>\n",
       "      <td>1</td>\n",
       "      <td>1</td>\n",
       "      <td>1</td>\n",
       "      <td>45.0</td>\n",
       "      <td>0</td>\n",
       "      <td>0</td>\n",
       "      <td>0</td>\n",
       "      <td>0</td>\n",
       "      <td>1</td>\n",
       "      <td>...</td>\n",
       "      <td>1</td>\n",
       "      <td>0</td>\n",
       "      <td>3</td>\n",
       "      <td>0.0</td>\n",
       "      <td>5.0</td>\n",
       "      <td>0</td>\n",
       "      <td>1</td>\n",
       "      <td>5</td>\n",
       "      <td>6</td>\n",
       "      <td>7</td>\n",
       "    </tr>\n",
       "    <tr>\n",
       "      <th>253676</th>\n",
       "      <td>0</td>\n",
       "      <td>1</td>\n",
       "      <td>1</td>\n",
       "      <td>1</td>\n",
       "      <td>18.0</td>\n",
       "      <td>0</td>\n",
       "      <td>0</td>\n",
       "      <td>2</td>\n",
       "      <td>0</td>\n",
       "      <td>0</td>\n",
       "      <td>...</td>\n",
       "      <td>1</td>\n",
       "      <td>0</td>\n",
       "      <td>4</td>\n",
       "      <td>0.0</td>\n",
       "      <td>0.0</td>\n",
       "      <td>1</td>\n",
       "      <td>0</td>\n",
       "      <td>11</td>\n",
       "      <td>2</td>\n",
       "      <td>4</td>\n",
       "    </tr>\n",
       "    <tr>\n",
       "      <th>253677</th>\n",
       "      <td>0</td>\n",
       "      <td>0</td>\n",
       "      <td>0</td>\n",
       "      <td>1</td>\n",
       "      <td>28.0</td>\n",
       "      <td>0</td>\n",
       "      <td>0</td>\n",
       "      <td>0</td>\n",
       "      <td>1</td>\n",
       "      <td>1</td>\n",
       "      <td>...</td>\n",
       "      <td>1</td>\n",
       "      <td>0</td>\n",
       "      <td>1</td>\n",
       "      <td>0.0</td>\n",
       "      <td>0.0</td>\n",
       "      <td>0</td>\n",
       "      <td>0</td>\n",
       "      <td>2</td>\n",
       "      <td>5</td>\n",
       "      <td>2</td>\n",
       "    </tr>\n",
       "    <tr>\n",
       "      <th>253678</th>\n",
       "      <td>0</td>\n",
       "      <td>1</td>\n",
       "      <td>0</td>\n",
       "      <td>1</td>\n",
       "      <td>23.0</td>\n",
       "      <td>0</td>\n",
       "      <td>0</td>\n",
       "      <td>0</td>\n",
       "      <td>0</td>\n",
       "      <td>1</td>\n",
       "      <td>...</td>\n",
       "      <td>1</td>\n",
       "      <td>0</td>\n",
       "      <td>3</td>\n",
       "      <td>0.0</td>\n",
       "      <td>0.0</td>\n",
       "      <td>0</td>\n",
       "      <td>1</td>\n",
       "      <td>7</td>\n",
       "      <td>5</td>\n",
       "      <td>1</td>\n",
       "    </tr>\n",
       "    <tr>\n",
       "      <th>253679</th>\n",
       "      <td>1</td>\n",
       "      <td>1</td>\n",
       "      <td>1</td>\n",
       "      <td>1</td>\n",
       "      <td>25.0</td>\n",
       "      <td>0</td>\n",
       "      <td>0</td>\n",
       "      <td>2</td>\n",
       "      <td>1</td>\n",
       "      <td>1</td>\n",
       "      <td>...</td>\n",
       "      <td>1</td>\n",
       "      <td>0</td>\n",
       "      <td>2</td>\n",
       "      <td>0.0</td>\n",
       "      <td>0.0</td>\n",
       "      <td>0</td>\n",
       "      <td>0</td>\n",
       "      <td>9</td>\n",
       "      <td>6</td>\n",
       "      <td>2</td>\n",
       "    </tr>\n",
       "  </tbody>\n",
       "</table>\n",
       "<p>5 rows × 22 columns</p>\n",
       "</div>"
      ],
      "text/plain": [
       "        HeartDiseaseorAttack  HighBP  HighChol  CholCheck   BMI  Smoker  \\\n",
       "253675                     0       1         1          1  45.0       0   \n",
       "253676                     0       1         1          1  18.0       0   \n",
       "253677                     0       0         0          1  28.0       0   \n",
       "253678                     0       1         0          1  23.0       0   \n",
       "253679                     1       1         1          1  25.0       0   \n",
       "\n",
       "        Stroke  Diabetes  PhysActivity  Fruits  ...  AnyHealthcare  \\\n",
       "253675       0         0             0       1  ...              1   \n",
       "253676       0         2             0       0  ...              1   \n",
       "253677       0         0             1       1  ...              1   \n",
       "253678       0         0             0       1  ...              1   \n",
       "253679       0         2             1       1  ...              1   \n",
       "\n",
       "        NoDocbcCost  GenHlth  MentHlth  PhysHlth  DiffWalk  Sex  Age  \\\n",
       "253675            0        3       0.0       5.0         0    1    5   \n",
       "253676            0        4       0.0       0.0         1    0   11   \n",
       "253677            0        1       0.0       0.0         0    0    2   \n",
       "253678            0        3       0.0       0.0         0    1    7   \n",
       "253679            0        2       0.0       0.0         0    0    9   \n",
       "\n",
       "        Education  Income  \n",
       "253675          6       7  \n",
       "253676          2       4  \n",
       "253677          5       2  \n",
       "253678          5       1  \n",
       "253679          6       2  \n",
       "\n",
       "[5 rows x 22 columns]"
      ]
     },
     "execution_count": 3,
     "metadata": {},
     "output_type": "execute_result"
    }
   ],
   "source": [
    "# previewing the last five rows of the data\n",
    "heart_df.tail()"
   ]
  },
  {
   "cell_type": "code",
   "execution_count": 4,
   "metadata": {},
   "outputs": [
    {
     "name": "stdout",
     "output_type": "stream",
     "text": [
      "<class 'pandas.core.frame.DataFrame'>\n",
      "Int64Index: 229781 entries, 0 to 253679\n",
      "Data columns (total 22 columns):\n",
      " #   Column                Non-Null Count   Dtype  \n",
      "---  ------                --------------   -----  \n",
      " 0   HeartDiseaseorAttack  229781 non-null  int64  \n",
      " 1   HighBP                229781 non-null  int64  \n",
      " 2   HighChol              229781 non-null  int64  \n",
      " 3   CholCheck             229781 non-null  int64  \n",
      " 4   BMI                   229781 non-null  float64\n",
      " 5   Smoker                229781 non-null  int64  \n",
      " 6   Stroke                229781 non-null  int64  \n",
      " 7   Diabetes              229781 non-null  int64  \n",
      " 8   PhysActivity          229781 non-null  int64  \n",
      " 9   Fruits                229781 non-null  int64  \n",
      " 10  Veggies               229781 non-null  int64  \n",
      " 11  HvyAlcoholConsump     229781 non-null  int64  \n",
      " 12  AnyHealthcare         229781 non-null  int64  \n",
      " 13  NoDocbcCost           229781 non-null  int64  \n",
      " 14  GenHlth               229781 non-null  int64  \n",
      " 15  MentHlth              229781 non-null  float64\n",
      " 16  PhysHlth              229781 non-null  float64\n",
      " 17  DiffWalk              229781 non-null  int64  \n",
      " 18  Sex                   229781 non-null  int64  \n",
      " 19  Age                   229781 non-null  int64  \n",
      " 20  Education             229781 non-null  int64  \n",
      " 21  Income                229781 non-null  int64  \n",
      "dtypes: float64(3), int64(19)\n",
      "memory usage: 40.3 MB\n"
     ]
    }
   ],
   "source": [
    "# getting the data info\n",
    "heart_df.info()"
   ]
  },
  {
   "cell_type": "code",
   "execution_count": 5,
   "metadata": {},
   "outputs": [
    {
     "data": {
      "text/plain": [
       "[98.0,\n",
       " 96.0,\n",
       " 95.0,\n",
       " 92.0,\n",
       " 91.0,\n",
       " 90.0,\n",
       " 89.0,\n",
       " 88.0,\n",
       " 87.0,\n",
       " 86.0,\n",
       " 85.0,\n",
       " 84.0,\n",
       " 83.0,\n",
       " 82.0,\n",
       " 81.0,\n",
       " 80.0,\n",
       " 79.0,\n",
       " 78.0,\n",
       " 77.0,\n",
       " 76.0,\n",
       " 75.0,\n",
       " 74.0,\n",
       " 73.0,\n",
       " 72.0,\n",
       " 71.0,\n",
       " 70.0,\n",
       " 69.0,\n",
       " 68.0,\n",
       " 67.0,\n",
       " 66.0,\n",
       " 65.0,\n",
       " 64.0,\n",
       " 63.0,\n",
       " 62.0,\n",
       " 61.0,\n",
       " 60.0,\n",
       " 59.0,\n",
       " 58.0,\n",
       " 57.0,\n",
       " 56.0,\n",
       " 55.0,\n",
       " 54.0,\n",
       " 53.0,\n",
       " 52.0,\n",
       " 51.0,\n",
       " 50.0,\n",
       " 49.0,\n",
       " 48.0,\n",
       " 47.0,\n",
       " 46.0,\n",
       " 45.0,\n",
       " 44.0,\n",
       " 43.0,\n",
       " 42.0,\n",
       " 41.0,\n",
       " 40.0,\n",
       " 39.0,\n",
       " 38.0,\n",
       " 37.0,\n",
       " 36.0,\n",
       " 35.0,\n",
       " 34.0,\n",
       " 33.0,\n",
       " 32.0,\n",
       " 31.0,\n",
       " 30.0,\n",
       " 29.0,\n",
       " 28.0,\n",
       " 27.0,\n",
       " 26.0,\n",
       " 25.0,\n",
       " 24.0,\n",
       " 23.0,\n",
       " 22.0,\n",
       " 21.0,\n",
       " 20.0,\n",
       " 19.0,\n",
       " 18.0,\n",
       " 17.0,\n",
       " 16.0,\n",
       " 15.0,\n",
       " 14.0,\n",
       " 13.0,\n",
       " 12.0]"
      ]
     },
     "execution_count": 5,
     "metadata": {},
     "output_type": "execute_result"
    }
   ],
   "source": [
    "heart_df.BMI.value_counts().index.sort_values(ascending=False).tolist()"
   ]
  },
  {
   "cell_type": "code",
   "execution_count": 6,
   "metadata": {},
   "outputs": [
    {
     "data": {
      "text/plain": [
       "['target',\n",
       " 'HighBP',\n",
       " 'HighChol',\n",
       " 'CholCheck',\n",
       " 'BMI',\n",
       " 'Smoker',\n",
       " 'Stroke',\n",
       " 'Diabetes',\n",
       " 'PhysActivity',\n",
       " 'Fruits',\n",
       " 'Veggies',\n",
       " 'HvyAlcoholConsump',\n",
       " 'AnyHealthcare',\n",
       " 'NoDocbcCost',\n",
       " 'GenHlth',\n",
       " 'MentHlth',\n",
       " 'PhysHlth',\n",
       " 'DiffWalk',\n",
       " 'Sex',\n",
       " 'Age',\n",
       " 'Education',\n",
       " 'Income']"
      ]
     },
     "execution_count": 6,
     "metadata": {},
     "output_type": "execute_result"
    }
   ],
   "source": [
    "# renaming feature HeartDiseaseorAttack to target\n",
    "heart_df.rename(columns={'HeartDiseaseorAttack': 'target',},\n",
    "          inplace=True, errors='raise')\n",
    "\n",
    "# checking the column names\n",
    "heart_df.columns.tolist()"
   ]
  },
  {
   "cell_type": "code",
   "execution_count": 7,
   "metadata": {},
   "outputs": [],
   "source": [
    "# splitting the data into predictor and response variables\n",
    "X = heart_df.drop('target', axis=1)\n",
    "y = heart_df['target']"
   ]
  },
  {
   "cell_type": "code",
   "execution_count": 8,
   "metadata": {},
   "outputs": [
    {
     "name": "stdout",
     "output_type": "stream",
     "text": [
      "(160846, 21)\n",
      "(68935, 21)\n",
      "(160846,)\n",
      "(68935,)\n",
      "0    144217\n",
      "1     16629\n",
      "Name: target, dtype: int64\n",
      "0    61847\n",
      "1     7088\n",
      "Name: target, dtype: int64\n"
     ]
    }
   ],
   "source": [
    "# splitting the data into train and test data\n",
    "X_train, X_test, y_train, y_test = train_test_split(X, y, test_size=0.30, random_state=42)\n",
    "\n",
    "# previewing the shapes of the data\n",
    "for item in [X_train, X_test, y_train, y_test]:\n",
    "    print(f\"{item.shape}\")\n",
    "\n",
    "# checking the value counts of the target variable for imbalance\n",
    "for element in [y_train, y_test]:\n",
    "    print(f\"{element.value_counts()}\")"
   ]
  },
  {
   "cell_type": "markdown",
   "metadata": {},
   "source": [
    "There is an issue of class imbalance and we shall deal with it"
   ]
  },
  {
   "cell_type": "code",
   "execution_count": 9,
   "metadata": {},
   "outputs": [],
   "source": [
    "# loading the SMOTE class\n",
    "from imblearn.over_sampling import SMOTE\n",
    "\n",
    "# Instantiating smote\n",
    "smote = SMOTE()\n",
    "\n",
    "# Fitting smote\n",
    "X_train_resampled, y_train_resampled = smote.fit_resample(X_train, y_train)"
   ]
  },
  {
   "cell_type": "code",
   "execution_count": 10,
   "metadata": {},
   "outputs": [
    {
     "name": "stdout",
     "output_type": "stream",
     "text": [
      "0    144217\n",
      "1     16629\n",
      "Name: target, dtype: int64\n",
      "0    144217\n",
      "1    144217\n",
      "Name: target, dtype: int64\n"
     ]
    }
   ],
   "source": [
    "# previewing shape of the target variable before and after resampling\n",
    "for item in [y_train, y_train_resampled]:\n",
    "    print(f\"{item.value_counts()}\")"
   ]
  },
  {
   "cell_type": "markdown",
   "metadata": {},
   "source": [
    "## Modelling"
   ]
  },
  {
   "cell_type": "code",
   "execution_count": 11,
   "metadata": {},
   "outputs": [],
   "source": [
    "# separating columns for transformation\n",
    "cols_trans = X_train[['PhysHlth', 'MentHlth', 'BMI']]\n",
    "cols_trans_test = X_test[['PhysHlth', 'MentHlth', 'BMI']]"
   ]
  },
  {
   "cell_type": "code",
   "execution_count": 12,
   "metadata": {},
   "outputs": [
    {
     "data": {
      "text/html": [
       "<div>\n",
       "<style scoped>\n",
       "    .dataframe tbody tr th:only-of-type {\n",
       "        vertical-align: middle;\n",
       "    }\n",
       "\n",
       "    .dataframe tbody tr th {\n",
       "        vertical-align: top;\n",
       "    }\n",
       "\n",
       "    .dataframe thead th {\n",
       "        text-align: right;\n",
       "    }\n",
       "</style>\n",
       "<table border=\"1\" class=\"dataframe\">\n",
       "  <thead>\n",
       "    <tr style=\"text-align: right;\">\n",
       "      <th></th>\n",
       "      <th>PhysHlth</th>\n",
       "      <th>MentHlth</th>\n",
       "      <th>BMI</th>\n",
       "    </tr>\n",
       "  </thead>\n",
       "  <tbody>\n",
       "    <tr>\n",
       "      <th>230811</th>\n",
       "      <td>0.000000</td>\n",
       "      <td>0.000000</td>\n",
       "      <td>-0.837690</td>\n",
       "    </tr>\n",
       "    <tr>\n",
       "      <th>92523</th>\n",
       "      <td>0.000000</td>\n",
       "      <td>0.000000</td>\n",
       "      <td>0.337612</td>\n",
       "    </tr>\n",
       "    <tr>\n",
       "      <th>223516</th>\n",
       "      <td>0.000000</td>\n",
       "      <td>0.000000</td>\n",
       "      <td>1.219088</td>\n",
       "    </tr>\n",
       "    <tr>\n",
       "      <th>524</th>\n",
       "      <td>0.000000</td>\n",
       "      <td>0.000000</td>\n",
       "      <td>-0.543865</td>\n",
       "    </tr>\n",
       "    <tr>\n",
       "      <th>58326</th>\n",
       "      <td>0.000000</td>\n",
       "      <td>0.000000</td>\n",
       "      <td>-1.131516</td>\n",
       "    </tr>\n",
       "    <tr>\n",
       "      <th>...</th>\n",
       "      <td>...</td>\n",
       "      <td>...</td>\n",
       "      <td>...</td>\n",
       "    </tr>\n",
       "    <tr>\n",
       "      <th>128914</th>\n",
       "      <td>0.000000</td>\n",
       "      <td>0.666667</td>\n",
       "      <td>-1.425341</td>\n",
       "    </tr>\n",
       "    <tr>\n",
       "      <th>110923</th>\n",
       "      <td>0.000000</td>\n",
       "      <td>0.000000</td>\n",
       "      <td>-0.543865</td>\n",
       "    </tr>\n",
       "    <tr>\n",
       "      <th>142328</th>\n",
       "      <td>0.166667</td>\n",
       "      <td>0.000000</td>\n",
       "      <td>-0.396952</td>\n",
       "    </tr>\n",
       "    <tr>\n",
       "      <th>159396</th>\n",
       "      <td>0.666667</td>\n",
       "      <td>0.333333</td>\n",
       "      <td>0.484525</td>\n",
       "    </tr>\n",
       "    <tr>\n",
       "      <th>131243</th>\n",
       "      <td>0.000000</td>\n",
       "      <td>0.000000</td>\n",
       "      <td>0.778350</td>\n",
       "    </tr>\n",
       "  </tbody>\n",
       "</table>\n",
       "<p>160846 rows × 3 columns</p>\n",
       "</div>"
      ],
      "text/plain": [
       "        PhysHlth  MentHlth       BMI\n",
       "230811  0.000000  0.000000 -0.837690\n",
       "92523   0.000000  0.000000  0.337612\n",
       "223516  0.000000  0.000000  1.219088\n",
       "524     0.000000  0.000000 -0.543865\n",
       "58326   0.000000  0.000000 -1.131516\n",
       "...          ...       ...       ...\n",
       "128914  0.000000  0.666667 -1.425341\n",
       "110923  0.000000  0.000000 -0.543865\n",
       "142328  0.166667  0.000000 -0.396952\n",
       "159396  0.666667  0.333333  0.484525\n",
       "131243  0.000000  0.000000  0.778350\n",
       "\n",
       "[160846 rows x 3 columns]"
      ]
     },
     "execution_count": 12,
     "metadata": {},
     "output_type": "execute_result"
    }
   ],
   "source": [
    "# cols to transform\n",
    "min_scaler = MinMaxScaler()\n",
    "\n",
    "std_scaler = StandardScaler()\n",
    "\n",
    "cols_trans[['PhysHlth', 'MentHlth']] = min_scaler.fit_transform(cols_trans[['PhysHlth', 'MentHlth']])\n",
    "cols_trans_test[['PhysHlth', 'MentHlth']] = min_scaler.fit_transform(cols_trans_test[['PhysHlth', 'MentHlth']])\n",
    "cols_trans[['BMI']] = std_scaler.fit_transform(cols_trans[['BMI']])\n",
    "cols_trans_test[['BMI']] = std_scaler.fit_transform(cols_trans_test[['BMI']])\n",
    "cols_trans"
   ]
  },
  {
   "cell_type": "code",
   "execution_count": 13,
   "metadata": {},
   "outputs": [],
   "source": [
    "X_train[['PhysHlth', 'MentHlth', 'BMI']] = cols_trans\n",
    "X_test[['PhysHlth', 'MentHlth', 'BMI']] = cols_trans_test"
   ]
  },
  {
   "cell_type": "code",
   "execution_count": 14,
   "metadata": {},
   "outputs": [],
   "source": [
    "# Initialze the estimators\n",
    "lr = LogisticRegression(random_state=42)\n",
    "dt = DecisionTreeClassifier(random_state=42)\n",
    "knn = KNeighborsClassifier()\n",
    "rf = RandomForestClassifier(random_state=42)\n",
    "grad_boost = GradientBoostingClassifier(random_state=42)\n",
    "ada_boost = AdaBoostClassifier(random_state=42)\n",
    "xg_boost = XGBClassifier(random_state=42)"
   ]
  },
  {
   "cell_type": "code",
   "execution_count": 15,
   "metadata": {},
   "outputs": [],
   "source": [
    "# preprocessing using a column transformer\n",
    "ct= ColumnTransformer([\n",
    "    ('min_max_scaler', MinMaxScaler(), ['PhysHlth', 'MentHlth']),\n",
    "    ('standard_scaler', StandardScaler(), ['BMI'])\n",
    "])"
   ]
  },
  {
   "cell_type": "code",
   "execution_count": 16,
   "metadata": {},
   "outputs": [
    {
     "data": {
      "text/plain": [
       "{'transformers': [('min_max_scaler', MinMaxScaler(), ['PhysHlth', 'MentHlth']),\n",
       "  ('standard_scaler', StandardScaler(), ['BMI'])],\n",
       " 'remainder': 'drop',\n",
       " 'sparse_threshold': 0.3,\n",
       " 'n_jobs': None,\n",
       " 'transformer_weights': None,\n",
       " 'verbose': False,\n",
       " 'verbose_feature_names_out': True}"
      ]
     },
     "execution_count": 16,
     "metadata": {},
     "output_type": "execute_result"
    }
   ],
   "source": [
    "ct.__dict__"
   ]
  },
  {
   "cell_type": "code",
   "execution_count": 18,
   "metadata": {},
   "outputs": [],
   "source": [
    "# creating a pipeline\n",
    "pipe = Pipeline([\n",
    "    ('preprocessor', ct),\n",
    "    ('clf', lr)\n",
    "])\n",
    "\n",
    "# creating parameter grids for all  the classifiers\n",
    "\n",
    "# logistic regression parameter grid\n",
    "lr_grid = {\n",
    "    'clf__penalty': ['l1', 'l2'],\n",
    "    'clf__C': [1, 10, 100],\n",
    "    'clf__class_weight':['balanced', 'auto'],\n",
    "    'clf__solver': ['liblinear', 'lbfgs'],\n",
    "    'clf': [lr]\n",
    "}\n",
    "\n",
    "# decision tree parameter grid\n",
    "dt_grid = {\n",
    "    'clf__criterion': ['gini', 'entropy'],\n",
    "    'clf__max_depth': [2, 10, None],\n",
    "    'clf__min_samples_split': [1, 5, 10],\n",
    "    'clf__min_samples_leaf': [1, 2, 5],\n",
    "    'clf__class_weight': ['auto', 'balanced'],\n",
    "    'clf': [dt]\n",
    "}\n",
    "\n",
    "# Knn parameter grid\n",
    "knn_grid = {\n",
    "    'clf__n_neighbors':[3, 7, 9],\n",
    "    'clf__weights':['uniform', 'distance'],\n",
    "    'clf__metric':['minkowski', 'manhattan'],\n",
    "    'clf': [knn]\n",
    "}\n",
    "\n",
    "# random forest parameter grid\n",
    "rf_grid = {\n",
    "    'clf__n_estimators': [100, 250],\n",
    "    'clf__criterion': ['gini', 'entropy'],\n",
    "    'clf__max_depth': [5, 10, 40],\n",
    "    'clf': [rf] \n",
    "}\n",
    "\n",
    "# Gradient boost parameter grid\n",
    "grad_boost_grid = {\n",
    "    'clf__n_estimators': [100, 250],\n",
    "    'clf__learning_rate':[0.1, 0.2],\n",
    "    'clf__max_depth': [3, 10, 40],\n",
    "    'clf': [grad_boost]\n",
    "}\n",
    "\n",
    "# Ada boost parameter grid\n",
    "ada_boost_grid = {\n",
    "    'clf__n_estimators': [100, 250],\n",
    "    'clf__learning_rate': [0.1, 0.2, 0.8],\n",
    "    'clf': [ada_boost]\n",
    "}\n",
    "\n",
    "# XG boost parameter grid\n",
    "xg_boost_grid = {\n",
    "    'clf__n_estimators': [100, 250],\n",
    "    'clf__max_depth': [5, 10, 25],\n",
    "    'clf__learning_rate': [0.1, 0.2, 0.8],\n",
    "    'clf': [xg_boost]\n",
    "}\n"
   ]
  },
  {
   "cell_type": "code",
   "execution_count": 32,
   "metadata": {},
   "outputs": [],
   "source": [
    "# defining the overall parameter grid\n",
    "params = [lr_grid, dt_grid, knn_grid, rf_grid, grad_boost_grid, ada_boost, xg_boost_grid]\n",
    "\n"
   ]
  },
  {
   "cell_type": "code",
   "execution_count": 19,
   "metadata": {},
   "outputs": [],
   "source": [
    "# Using grid search\n",
    "gs = GridSearchCV(estimator = pipe,\n",
    "                  param_grid = params,\n",
    "                  scoring = 'accuracy',\n",
    "                  cv = 5,\n",
    "                  n_jobs=-1)\n",
    "\n",
    "# fitting the grid search to the data\n",
    "gs.fit(X_train, y_train)"
   ]
  },
  {
   "cell_type": "code",
   "execution_count": null,
   "metadata": {},
   "outputs": [
    {
     "data": {
      "text/plain": [
       "0.8971204758105462"
      ]
     },
     "execution_count": 17,
     "metadata": {},
     "output_type": "execute_result"
    }
   ],
   "source": [
    "# calculating the test score\n",
    "gs.score(X_test, y_test)"
   ]
  },
  {
   "cell_type": "code",
   "execution_count": null,
   "metadata": {},
   "outputs": [
    {
     "data": {
      "text/plain": [
       "{'clf': RandomForestClassifier(max_depth=10, min_samples_split=5, n_estimators=250,\n",
       "                        random_state=42),\n",
       " 'clf__criterion': 'gini',\n",
       " 'clf__max_depth': 10,\n",
       " 'clf__min_samples_leaf': 1,\n",
       " 'clf__min_samples_split': 5,\n",
       " 'clf__n_estimators': 250}"
      ]
     },
     "execution_count": 18,
     "metadata": {},
     "output_type": "execute_result"
    }
   ],
   "source": [
    "# getting the best parameters\n",
    "gs.best_params_"
   ]
  },
  {
   "cell_type": "code",
   "execution_count": null,
   "metadata": {},
   "outputs": [],
   "source": [
    "pre_process_pipe = Pipeline([('preprocessor', ct)])"
   ]
  },
  {
   "cell_type": "code",
   "execution_count": 27,
   "metadata": {},
   "outputs": [
    {
     "data": {
      "text/html": [
       "<style>#sk-container-id-2 {color: black;background-color: white;}#sk-container-id-2 pre{padding: 0;}#sk-container-id-2 div.sk-toggleable {background-color: white;}#sk-container-id-2 label.sk-toggleable__label {cursor: pointer;display: block;width: 100%;margin-bottom: 0;padding: 0.3em;box-sizing: border-box;text-align: center;}#sk-container-id-2 label.sk-toggleable__label-arrow:before {content: \"▸\";float: left;margin-right: 0.25em;color: #696969;}#sk-container-id-2 label.sk-toggleable__label-arrow:hover:before {color: black;}#sk-container-id-2 div.sk-estimator:hover label.sk-toggleable__label-arrow:before {color: black;}#sk-container-id-2 div.sk-toggleable__content {max-height: 0;max-width: 0;overflow: hidden;text-align: left;background-color: #f0f8ff;}#sk-container-id-2 div.sk-toggleable__content pre {margin: 0.2em;color: black;border-radius: 0.25em;background-color: #f0f8ff;}#sk-container-id-2 input.sk-toggleable__control:checked~div.sk-toggleable__content {max-height: 200px;max-width: 100%;overflow: auto;}#sk-container-id-2 input.sk-toggleable__control:checked~label.sk-toggleable__label-arrow:before {content: \"▾\";}#sk-container-id-2 div.sk-estimator input.sk-toggleable__control:checked~label.sk-toggleable__label {background-color: #d4ebff;}#sk-container-id-2 div.sk-label input.sk-toggleable__control:checked~label.sk-toggleable__label {background-color: #d4ebff;}#sk-container-id-2 input.sk-hidden--visually {border: 0;clip: rect(1px 1px 1px 1px);clip: rect(1px, 1px, 1px, 1px);height: 1px;margin: -1px;overflow: hidden;padding: 0;position: absolute;width: 1px;}#sk-container-id-2 div.sk-estimator {font-family: monospace;background-color: #f0f8ff;border: 1px dotted black;border-radius: 0.25em;box-sizing: border-box;margin-bottom: 0.5em;}#sk-container-id-2 div.sk-estimator:hover {background-color: #d4ebff;}#sk-container-id-2 div.sk-parallel-item::after {content: \"\";width: 100%;border-bottom: 1px solid gray;flex-grow: 1;}#sk-container-id-2 div.sk-label:hover label.sk-toggleable__label {background-color: #d4ebff;}#sk-container-id-2 div.sk-serial::before {content: \"\";position: absolute;border-left: 1px solid gray;box-sizing: border-box;top: 0;bottom: 0;left: 50%;z-index: 0;}#sk-container-id-2 div.sk-serial {display: flex;flex-direction: column;align-items: center;background-color: white;padding-right: 0.2em;padding-left: 0.2em;position: relative;}#sk-container-id-2 div.sk-item {position: relative;z-index: 1;}#sk-container-id-2 div.sk-parallel {display: flex;align-items: stretch;justify-content: center;background-color: white;position: relative;}#sk-container-id-2 div.sk-item::before, #sk-container-id-2 div.sk-parallel-item::before {content: \"\";position: absolute;border-left: 1px solid gray;box-sizing: border-box;top: 0;bottom: 0;left: 50%;z-index: -1;}#sk-container-id-2 div.sk-parallel-item {display: flex;flex-direction: column;z-index: 1;position: relative;background-color: white;}#sk-container-id-2 div.sk-parallel-item:first-child::after {align-self: flex-end;width: 50%;}#sk-container-id-2 div.sk-parallel-item:last-child::after {align-self: flex-start;width: 50%;}#sk-container-id-2 div.sk-parallel-item:only-child::after {width: 0;}#sk-container-id-2 div.sk-dashed-wrapped {border: 1px dashed gray;margin: 0 0.4em 0.5em 0.4em;box-sizing: border-box;padding-bottom: 0.4em;background-color: white;}#sk-container-id-2 div.sk-label label {font-family: monospace;font-weight: bold;display: inline-block;line-height: 1.2em;}#sk-container-id-2 div.sk-label-container {text-align: center;}#sk-container-id-2 div.sk-container {/* jupyter's `normalize.less` sets `[hidden] { display: none; }` but bootstrap.min.css set `[hidden] { display: none !important; }` so we also need the `!important` here to be able to override the default hidden behavior on the sphinx rendered scikit-learn.org. See: https://github.com/scikit-learn/scikit-learn/issues/21755 */display: inline-block !important;position: relative;}#sk-container-id-2 div.sk-text-repr-fallback {display: none;}</style><div id=\"sk-container-id-2\" class=\"sk-top-container\"><div class=\"sk-text-repr-fallback\"><pre>Pipeline(steps=[(&#x27;clf&#x27;,\n",
       "                 RandomForestClassifier(max_depth=10, min_samples_split=5,\n",
       "                                        n_estimators=250, random_state=42))])</pre><b>In a Jupyter environment, please rerun this cell to show the HTML representation or trust the notebook. <br />On GitHub, the HTML representation is unable to render, please try loading this page with nbviewer.org.</b></div><div class=\"sk-container\" hidden><div class=\"sk-item sk-dashed-wrapped\"><div class=\"sk-label-container\"><div class=\"sk-label sk-toggleable\"><input class=\"sk-toggleable__control sk-hidden--visually\" id=\"sk-estimator-id-4\" type=\"checkbox\" ><label for=\"sk-estimator-id-4\" class=\"sk-toggleable__label sk-toggleable__label-arrow\">Pipeline</label><div class=\"sk-toggleable__content\"><pre>Pipeline(steps=[(&#x27;clf&#x27;,\n",
       "                 RandomForestClassifier(max_depth=10, min_samples_split=5,\n",
       "                                        n_estimators=250, random_state=42))])</pre></div></div></div><div class=\"sk-serial\"><div class=\"sk-item\"><div class=\"sk-estimator sk-toggleable\"><input class=\"sk-toggleable__control sk-hidden--visually\" id=\"sk-estimator-id-5\" type=\"checkbox\" ><label for=\"sk-estimator-id-5\" class=\"sk-toggleable__label sk-toggleable__label-arrow\">RandomForestClassifier</label><div class=\"sk-toggleable__content\"><pre>RandomForestClassifier(max_depth=10, min_samples_split=5, n_estimators=250,\n",
       "                       random_state=42)</pre></div></div></div></div></div></div></div>"
      ],
      "text/plain": [
       "Pipeline(steps=[('clf',\n",
       "                 RandomForestClassifier(max_depth=10, min_samples_split=5,\n",
       "                                        n_estimators=250, random_state=42))])"
      ]
     },
     "execution_count": 27,
     "metadata": {},
     "output_type": "execute_result"
    }
   ],
   "source": [
    "# creating a pipe of the best parameters\n",
    "pipe_best = Pipeline([\n",
    "    ('clf', RandomForestClassifier(random_state=42,\n",
    "                                   criterion='gini',\n",
    "                                   min_samples_leaf=1,\n",
    "                                   min_samples_split=5,\n",
    "                                   n_estimators=250,\n",
    "                                   max_depth=10))\n",
    "])\n",
    "\n",
    "# fitting the pipe to the data\n",
    "pipe_best.fit(X_train, y_train)\n",
    "\n"
   ]
  },
  {
   "cell_type": "code",
   "execution_count": 28,
   "metadata": {},
   "outputs": [
    {
     "data": {
      "text/plain": [
       "0.8995720606368318"
      ]
     },
     "execution_count": 28,
     "metadata": {},
     "output_type": "execute_result"
    }
   ],
   "source": [
    "# calculating the test score\n",
    "pipe_best.score(X_test, y_test)"
   ]
  },
  {
   "cell_type": "code",
   "execution_count": 25,
   "metadata": {},
   "outputs": [],
   "source": [
    "#function to evaluate the model and return the score\n",
    "def model_eval(model, X_tr, y_tr, X_te, y_te):\n",
    "    pred = model.predict(X_te)\n",
    "    precision =precision_score(y_te, pred)\n",
    "    recall =recall_score(y_te, pred)\n",
    "    accuracy =accuracy_score(y_te, pred)\n",
    "    f1 = f1_score(y_te, pred)\n",
    "    \n",
    "    return {'precision':precision,\n",
    "            'recall_score':recall,\n",
    "            'accuracy_score':accuracy,\n",
    "            'f1_score':f1}"
   ]
  },
  {
   "cell_type": "code",
   "execution_count": 29,
   "metadata": {},
   "outputs": [
    {
     "data": {
      "text/plain": [
       "{'precision': 0.6736842105263158,\n",
       " 'recall_score': 0.045146726862302484,\n",
       " 'accuracy_score': 0.8995720606368318,\n",
       " 'f1_score': 0.08462250429723654}"
      ]
     },
     "execution_count": 29,
     "metadata": {},
     "output_type": "execute_result"
    }
   ],
   "source": [
    "model_eval(pipe_best, X_train, y_train, X_test, y_test)"
   ]
  },
  {
   "cell_type": "code",
   "execution_count": 29,
   "metadata": {},
   "outputs": [
    {
     "data": {
      "image/png": "[encoded data removed]",
      "text/plain": [
       "<Figure size 640x480 with 2 Axes>"
      ]
     },
     "metadata": {},
     "output_type": "display_data"
    }
   ],
   "source": [
    "plot_confusion_matrix(pipe_best, X_train, y_train)\n",
    "plt.show()"
   ]
  },
  {
   "cell_type": "code",
   "execution_count": 30,
   "metadata": {},
   "outputs": [
    {
     "data": {
      "text/html": [
       "<style>#sk-container-id-5 {color: black;background-color: white;}#sk-container-id-5 pre{padding: 0;}#sk-container-id-5 div.sk-toggleable {background-color: white;}#sk-container-id-5 label.sk-toggleable__label {cursor: pointer;display: block;width: 100%;margin-bottom: 0;padding: 0.3em;box-sizing: border-box;text-align: center;}#sk-container-id-5 label.sk-toggleable__label-arrow:before {content: \"▸\";float: left;margin-right: 0.25em;color: #696969;}#sk-container-id-5 label.sk-toggleable__label-arrow:hover:before {color: black;}#sk-container-id-5 div.sk-estimator:hover label.sk-toggleable__label-arrow:before {color: black;}#sk-container-id-5 div.sk-toggleable__content {max-height: 0;max-width: 0;overflow: hidden;text-align: left;background-color: #f0f8ff;}#sk-container-id-5 div.sk-toggleable__content pre {margin: 0.2em;color: black;border-radius: 0.25em;background-color: #f0f8ff;}#sk-container-id-5 input.sk-toggleable__control:checked~div.sk-toggleable__content {max-height: 200px;max-width: 100%;overflow: auto;}#sk-container-id-5 input.sk-toggleable__control:checked~label.sk-toggleable__label-arrow:before {content: \"▾\";}#sk-container-id-5 div.sk-estimator input.sk-toggleable__control:checked~label.sk-toggleable__label {background-color: #d4ebff;}#sk-container-id-5 div.sk-label input.sk-toggleable__control:checked~label.sk-toggleable__label {background-color: #d4ebff;}#sk-container-id-5 input.sk-hidden--visually {border: 0;clip: rect(1px 1px 1px 1px);clip: rect(1px, 1px, 1px, 1px);height: 1px;margin: -1px;overflow: hidden;padding: 0;position: absolute;width: 1px;}#sk-container-id-5 div.sk-estimator {font-family: monospace;background-color: #f0f8ff;border: 1px dotted black;border-radius: 0.25em;box-sizing: border-box;margin-bottom: 0.5em;}#sk-container-id-5 div.sk-estimator:hover {background-color: #d4ebff;}#sk-container-id-5 div.sk-parallel-item::after {content: \"\";width: 100%;border-bottom: 1px solid gray;flex-grow: 1;}#sk-container-id-5 div.sk-label:hover label.sk-toggleable__label {background-color: #d4ebff;}#sk-container-id-5 div.sk-serial::before {content: \"\";position: absolute;border-left: 1px solid gray;box-sizing: border-box;top: 0;bottom: 0;left: 50%;z-index: 0;}#sk-container-id-5 div.sk-serial {display: flex;flex-direction: column;align-items: center;background-color: white;padding-right: 0.2em;padding-left: 0.2em;position: relative;}#sk-container-id-5 div.sk-item {position: relative;z-index: 1;}#sk-container-id-5 div.sk-parallel {display: flex;align-items: stretch;justify-content: center;background-color: white;position: relative;}#sk-container-id-5 div.sk-item::before, #sk-container-id-5 div.sk-parallel-item::before {content: \"\";position: absolute;border-left: 1px solid gray;box-sizing: border-box;top: 0;bottom: 0;left: 50%;z-index: -1;}#sk-container-id-5 div.sk-parallel-item {display: flex;flex-direction: column;z-index: 1;position: relative;background-color: white;}#sk-container-id-5 div.sk-parallel-item:first-child::after {align-self: flex-end;width: 50%;}#sk-container-id-5 div.sk-parallel-item:last-child::after {align-self: flex-start;width: 50%;}#sk-container-id-5 div.sk-parallel-item:only-child::after {width: 0;}#sk-container-id-5 div.sk-dashed-wrapped {border: 1px dashed gray;margin: 0 0.4em 0.5em 0.4em;box-sizing: border-box;padding-bottom: 0.4em;background-color: white;}#sk-container-id-5 div.sk-label label {font-family: monospace;font-weight: bold;display: inline-block;line-height: 1.2em;}#sk-container-id-5 div.sk-label-container {text-align: center;}#sk-container-id-5 div.sk-container {/* jupyter's `normalize.less` sets `[hidden] { display: none; }` but bootstrap.min.css set `[hidden] { display: none !important; }` so we also need the `!important` here to be able to override the default hidden behavior on the sphinx rendered scikit-learn.org. See: https://github.com/scikit-learn/scikit-learn/issues/21755 */display: inline-block !important;position: relative;}#sk-container-id-5 div.sk-text-repr-fallback {display: none;}</style><div id=\"sk-container-id-5\" class=\"sk-top-container\"><div class=\"sk-text-repr-fallback\"><pre>LogisticRegression()</pre><b>In a Jupyter environment, please rerun this cell to show the HTML representation or trust the notebook. <br />On GitHub, the HTML representation is unable to render, please try loading this page with nbviewer.org.</b></div><div class=\"sk-container\" hidden><div class=\"sk-item\"><div class=\"sk-estimator sk-toggleable\"><input class=\"sk-toggleable__control sk-hidden--visually\" id=\"sk-estimator-id-6\" type=\"checkbox\" checked><label for=\"sk-estimator-id-6\" class=\"sk-toggleable__label sk-toggleable__label-arrow\">LogisticRegression</label><div class=\"sk-toggleable__content\"><pre>LogisticRegression()</pre></div></div></div></div></div>"
      ],
      "text/plain": [
       "LogisticRegression()"
      ]
     },
     "execution_count": 30,
     "metadata": {},
     "output_type": "execute_result"
    }
   ],
   "source": [
    "log_reg = LogisticRegression()\n",
    "\n",
    "# fit the model\n",
    "log_reg.fit(X_train, y_train)"
   ]
  },
  {
   "cell_type": "code",
   "execution_count": 31,
   "metadata": {},
   "outputs": [],
   "source": [
    "# saving the model using pickle\n",
    "import pickle"
   ]
  },
  {
   "cell_type": "code",
   "execution_count": 33,
   "metadata": {},
   "outputs": [],
   "source": [
    "filename = 'final_model.sav'\n",
    "pickle.dump(pipe_best, open(filename, 'wb'))\n",
    "\n",
    "# loading the saved model\n",
    "loaded_model = pickle.load(open('final_model.sav', 'rb'))"
   ]
  },
  {
   "cell_type": "code",
   "execution_count": null,
   "metadata": {},
   "outputs": [
    {
     "data": {
      "text/plain": [
       "Index(['HighBP', 'HighChol', 'CholCheck', 'BMI', 'Smoker', 'Stroke',\n",
       "       'Diabetes', 'PhysActivity', 'Fruits', 'Veggies', 'HvyAlcoholConsump',\n",
       "       'AnyHealthcare', 'NoDocbcCost', 'GenHlth', 'MentHlth', 'PhysHlth',\n",
       "       'DiffWalk', 'Sex', 'Age', 'Education', 'Income'],\n",
       "      dtype='object')"
      ]
     },
     "execution_count": 32,
     "metadata": {},
     "output_type": "execute_result"
    }
   ],
   "source": [
    "X_train.columns"
   ]
  },
  {
   "cell_type": "code",
   "execution_count": 34,
   "metadata": {},
   "outputs": [
    {
     "name": "stdout",
     "output_type": "stream",
     "text": [
      "[0]\n",
      "The person does not have heart disease\n"
     ]
    }
   ],
   "source": [
    "input_data = [1, 1, 1, 40, 1, 0, 0, 0, 0, 1, 0, 1, 0, 5, 18, 15,\t1, 0, 9, 4, 3]\n",
    "test_2 = [1,\t1,\t1,\t30,\t1,\t0,\t2,\t0,\t1,\t1,\t0,\t1,\t0,\t5,\t30,\t30,\t1,\t0,\t9,\t5,\t1]\n",
    "# changing the input_data to numpy array\n",
    "input_data_as_numpy_array = np.asarray(test_2)\n",
    "\n",
    "# reshape the array as we are predicting for one instance\n",
    "input_data_reshaped = input_data_as_numpy_array.reshape(1,-1)\n",
    "\n",
    "prediction = pipe_best.predict(input_data_reshaped)\n",
    "accuracy = pipe_best.score(input_data_reshaped, prediction)\n",
    "print(prediction)\n",
    "\n",
    "if (prediction[0] == 0):\n",
    "  print('The person does not have heart disease')\n",
    "else:\n",
    "  print('The person has heart disease')"
   ]
  },
  {
   "cell_type": "markdown",
   "metadata": {},
   "source": [
    "### Conclusion\n",
    "\n",
    "* The risk of heart disease increase with an increase in BMI and cholestrol levels\n",
    "* Those who did not see a doctor because of cost are more likely to have a heart disease.\n",
    "* The risk of a heart disease increases with an increase in weight.\n",
    "* The risk of a heart disease increases with an increase in age.\n",
    "* The risk of a heart disease increases slightly with an increase in the amount of annual income. This may be due to the ability to buy 'better' food and goods that is likely refined and thus contributes to this kind of situation.\n",
    "* It is quite astonishng that those who take at least fruits and veggies once per day relatively show a higher possibility of having a heart disease or attack.\n",
    "* The probability of having a heart disease increases with an increase in the number of days a person said they did not feel well either mentally or physically.\n",
    "\n",
    "\n",
    "The study feels that more work could be done on the model to improve the precision and recall and generally just the performance of the model."
   ]
  },
  {
   "cell_type": "markdown",
   "metadata": {},
   "source": []
  }
 ],
 "metadata": {
  "kernelspec": {
   "display_name": "Python 3.10.4 ('teo-main_env')",
   "language": "python",
   "name": "python3"
  },
  "language_info": {
   "codemirror_mode": {
    "name": "ipython",
    "version": 3
   },
   "file_extension": ".py",
   "mimetype": "text/x-python",
   "name": "python",
   "nbconvert_exporter": "python",
   "pygments_lexer": "ipython3",
   "version": "3.10.4"
  },
  "orig_nbformat": 4,
  "vscode": {
   "interpreter": {
    "hash": "537fa79cfb35352979e7d4f2e65032dbb0f41ebe7a6df5610f2f5f4f2117fa9c"
   }
  }
 },
 "nbformat": 4,
 "nbformat_minor": 2
}
